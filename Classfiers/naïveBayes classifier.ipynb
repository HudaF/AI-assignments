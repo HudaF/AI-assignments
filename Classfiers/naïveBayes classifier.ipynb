{
 "cells": [
  {
   "cell_type": "code",
   "execution_count": null,
   "metadata": {
    "colab": {},
    "colab_type": "code",
    "id": "2bh3c10dI0Gx"
   },
   "outputs": [],
   "source": [
    "import csv\n",
    "import pandas as pd\n",
    "import numpy as np\n",
    "from sklearn.feature_extraction.text import CountVectorizer\n",
    "from sklearn.feature_extraction.text import TfidfTransformer\n",
    "from sklearn.model_selection import train_test_split"
   ]
  },
  {
   "cell_type": "code",
   "execution_count": null,
   "metadata": {
    "colab": {},
    "colab_type": "code",
    "id": "U-Fej9xjI0HH"
   },
   "outputs": [],
   "source": [
    "def load_file(fileName):\n",
    "    dataset = pd.read_table(fileName, header=0, sep=\",\", encoding=\"unicode_escape\")\n",
    "    return dataset"
   ]
  },
  {
   "cell_type": "code",
   "execution_count": null,
   "metadata": {
    "colab": {},
    "colab_type": "code",
    "id": "PXYDLC5PI0HR"
   },
   "outputs": [],
   "source": [
    "# preprocess creates the term frequency matrix for the review data set\n",
    "def preprocess(data):\n",
    "    count_vectorizer = CountVectorizer()\n",
    "    data = count_vectorizer.fit_transform(data)\n",
    "    return data"
   ]
  },
  {
   "cell_type": "code",
   "execution_count": null,
   "metadata": {
    "colab": {},
    "colab_type": "code",
    "id": "SaPYGH1LI0HZ"
   },
   "outputs": [],
   "source": [
    "class NaiveBayesClassifier():\n",
    "    \n",
    "    def __init__(self):\n",
    "        self.labels = None\n",
    "        self.array_prob = None\n",
    "        self.probability_Y = dict()\n",
    "        \n",
    "        \n",
    "    def calculate_probability(self,count,possible_values,total,laplacian = True):\n",
    "        if laplacian:\n",
    "            return (1+count)/(possible_values+total)\n",
    "        return count/total\n",
    "    \n",
    "    \n",
    "    def learn(self,data,target):\n",
    "        \"\"\"\n",
    "        Find the probability of the categories.\n",
    "        For that find the count of each category and total count of all categories.\n",
    "        \"\"\"\n",
    "        self.labels = target.value_counts().index\n",
    "        each_label_count = target.value_counts().array \n",
    "        total_label_count = sum(each_label_count) #denominator of P(Yi)\n",
    "\n",
    "        for i in range(len(self.labels)): #storing label probabilities in dict\n",
    "            self.probability_Y[self.labels[i]] = self.calculate_probability(each_label_count[i],len(each_label_count),total_label_count)\n",
    "        \"\"\"\n",
    "        Make 3D array of probabilities where number of columns are marked by input variable and rows are marked by categories\n",
    "        example: [[[X0,Y0],[X1,Y0]] | [[S0,Y0],[S1,Y0]]  | [[R0,Y0],[R1,Y0]]]\n",
    "                 [[[X0,Y1],[X1,Y1]] | [[S0,Y1],[S1,Y1]]  | [[R0,Y1],[R1,Y1]]]\n",
    "        \"\"\"\n",
    "        data_matrix = data.toarray()\n",
    "        count_col = len(data_matrix[0])\n",
    "        count_row = len(self.labels) \n",
    "        self.array_prob = np.zeros((count_row,count_col,2)) #3D array of 0 for probabilities\n",
    "        counter_label = 0\n",
    "\n",
    "        for i in self.labels:\n",
    "            counter_column = 0\n",
    "            matched_Y_ind = np.where(target.array == i)[0] #rows where output label is macthed\n",
    "            count_matched_Y_ind = len(matched_Y_ind) #denominator of P(Xi)\n",
    "            self.array_prob[counter_label,:,:] = self.calculate_probability(0, count_row,count_matched_Y_ind)\n",
    "            for j in data_matrix.T: #by transpose we can access the cloumns directly\n",
    "                uniqueValues, occurCount = np.unique(j[matched_Y_ind], return_counts=True)\n",
    "                listOfUniqueValues = zip(uniqueValues, occurCount)\n",
    "                for elem in listOfUniqueValues:\n",
    "                    if (elem[0]==1 or elem[0]==0): #ignore for values greater than 1\n",
    "                        prob = self.calculate_probability(elem[1],2,count_matched_Y_ind)\n",
    "                        self.array_prob[counter_label,counter_column,elem[0]] = prob\n",
    "                counter_column += 1\n",
    "            counter_label += 1\n",
    "        return self.array_prob\n",
    "            \n",
    "        \n",
    "    def predict(self,testdata):\n",
    "        testdata_matrix = testdata.toarray()\n",
    "        predictions = np.zeros((len(self.labels),len(testdata_matrix))) #key = label, counter_row\n",
    "        self.predicted_label = []\n",
    "        \n",
    "        counter_label = 0\n",
    "        for i in self.labels: #row value\n",
    "            counter_row = 0\n",
    "            prob_Y = self.probability_Y[i]\n",
    "            for j in testdata_matrix: \n",
    "                counter_col = 0\n",
    "                list_prob = []\n",
    "                prob_XgY = prob_Y\n",
    "                for k in j: #col\n",
    "                    if k<=1:\n",
    "                        prob_XgY = self.array_prob[counter_label,counter_col,k] * prob_XgY\n",
    "                    counter_col += 1\n",
    "                predictions[counter_label,counter_row] =prob_XgY\n",
    "                counter_row += 1\n",
    "            counter_label += 1\n",
    "        for i in predictions.T:\n",
    "            max_index = result = np.where(i == np.amax(i))[0][0] #tuple of max_ind and value\n",
    "            self.predicted_label.append(self.labels[max_index])\n",
    "        return self.predicted_label "
   ]
  },
  {
   "cell_type": "code",
   "execution_count": null,
   "metadata": {
    "colab": {},
    "colab_type": "code",
    "id": "0T7X0cFmI0Hk"
   },
   "outputs": [],
   "source": [
    "def learn_model(data,target): #trainx, trainY (trainX = .toarray() & trainY = .array)\n",
    "  \n",
    "    classifier = NaiveBayesClassifier()\n",
    "    classifier.learn(data,target)\n",
    "    return classifier"
   ]
  },
  {
   "cell_type": "code",
   "execution_count": null,
   "metadata": {
    "colab": {},
    "colab_type": "code",
    "id": "ERGeV_uzI0Hz"
   },
   "outputs": [],
   "source": [
    "def classify(classifier, testdata):\n",
    "    \n",
    "    predicted_val= classifier.predict(testdata)\n",
    "    return predicted_val"
   ]
  },
  {
   "cell_type": "code",
   "execution_count": null,
   "metadata": {
    "colab": {},
    "colab_type": "code",
    "id": "dgD0b-krI0H8"
   },
   "outputs": [],
   "source": [
    "def confusionMatrix(actual_class,predicted):\n",
    "        actual = actual_class.array\n",
    "        labels = np.unique(actual)\n",
    "        result = np.zeros((len(labels), len(labels)))\n",
    "        for i in range(len(actual)):\n",
    "            a = np.where(labels == actual[i])[0]\n",
    "            p = np.where(labels == predicted[i])[0]\n",
    "            result[a,p] += 1\n",
    "        return result\n",
    "    \n",
    "def precision(label, cm):\n",
    "    col = cm[:, label] #col of confusion matrix. \n",
    "    return cm[label, label] / col.sum() #true posiitve/ sum of true positive + false-positive\n",
    "\n",
    "def precision_all(cm):\n",
    "    i = len(cm)\n",
    "    p_sum = 0\n",
    "    for label in range(i):\n",
    "        p_sum += precision(label, cm)\n",
    "    return p_sum/i\n",
    "\n",
    "def recall(label, cm): \n",
    "    row = cm[label, :] #row of confusion matrix\n",
    "    return cm[label, label] / row.sum() #true posiitve/ sum of true positive + false-negative\n",
    "\n",
    "def recall_all(cm):\n",
    "    i = len(cm)\n",
    "    p_sum = 0\n",
    "    for label in range(i):\n",
    "        p_sum += recall(label, cm)\n",
    "    return p_sum/i\n",
    "\n",
    "def evaluate(actual_class, predicted_class):\n",
    "    cm = confusionMatrix(testY,predictedY)\n",
    "    #print('cm',cm)\n",
    "    accuracy = 0 \n",
    "    p = precision_all(cm)\n",
    "    r = recall_all(cm)\n",
    "    f_measure = (2*p*r)/(p+r)\n",
    "    print(\"The confusion matrix is: \\n\",cm)\n",
    "    print(\"The precision score is :\",p)\n",
    "    print(\"The recall score is :\",r)\n",
    "    print(\"The f-measure score is :\",f_measure)"
   ]
  },
  {
   "cell_type": "code",
   "execution_count": null,
   "metadata": {
    "colab": {
     "base_uri": "https://localhost:8080/",
     "height": 494
    },
    "colab_type": "code",
    "id": "azT3yz-QI0ID",
    "outputId": "939eda78-5475-4538-f7e8-e1db75af922d"
   },
   "outputs": [],
   "source": [
    "features = [\"SUMMARY\", \"categories\", \"sub_categories\"]\n",
    "\n",
    "print(\"Loading data.....\")\n",
    "dataset = load_file(\"TextClassification_half.csv\")\n",
    "data,target = dataset[features[0]].fillna(\" \"), dataset[features[1]]\n",
    "\n",
    "print(\"preprocessing data.....\")\n",
    "word_vectors = preprocess(data)\n",
    "    \n",
    "trainingX,testX,trainingY,testY = train_test_split(word_vectors,target,test_size=0.25,random_state=43)\n",
    "\n",
    "print(\"Learning model.....\")\n",
    "model = learn_model(trainingX,trainingY)"
   ]
  },
  {
   "cell_type": "code",
   "execution_count": null,
   "metadata": {
    "colab": {
     "base_uri": "https://localhost:8080/",
     "height": 494
    },
    "colab_type": "code",
    "id": "azT3yz-QI0ID",
    "outputId": "939eda78-5475-4538-f7e8-e1db75af922d"
   },
   "outputs": [],
   "source": [
    "print(\"Classifying test data......\")   \n",
    "\n",
    "predictedY = classify(model, testX)"
   ]
  },
  {
   "cell_type": "code",
   "execution_count": null,
   "metadata": {
    "colab": {
     "base_uri": "https://localhost:8080/",
     "height": 494
    },
    "colab_type": "code",
    "id": "azT3yz-QI0ID",
    "outputId": "939eda78-5475-4538-f7e8-e1db75af922d",
    "scrolled": true
   },
   "outputs": [],
   "source": [
    "print(\"Evaluating results.....\")\n",
    "evaluate(testY,predictedY)"
   ]
  }
 ],
 "metadata": {
  "colab": {
   "name": "Copy of huda.ipynb",
   "provenance": []
  },
  "kernelspec": {
   "display_name": "Python 3",
   "language": "python",
   "name": "python3"
  },
  "language_info": {
   "codemirror_mode": {
    "name": "ipython",
    "version": 3
   },
   "file_extension": ".py",
   "mimetype": "text/x-python",
   "name": "python",
   "nbconvert_exporter": "python",
   "pygments_lexer": "ipython3",
   "version": "3.7.4"
  }
 },
 "nbformat": 4,
 "nbformat_minor": 1
}
